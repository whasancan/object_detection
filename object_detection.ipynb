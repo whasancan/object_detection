{
 "cells": [
  {
   "cell_type": "code",
   "execution_count": null,
   "id": "11eef0bf",
   "metadata": {},
   "outputs": [],
   "source": [
    "# !pip install ultralytics"
   ]
  },
  {
   "cell_type": "code",
   "execution_count": null,
   "id": "0503a9f1",
   "metadata": {},
   "outputs": [],
   "source": [
    "# kütüphaneleri yüklüyoruz\n",
    "from ultralytics import YOLO\n",
    "import cv2\n",
    "import math"
   ]
  },
  {
   "cell_type": "code",
   "execution_count": null,
   "id": "558936b9",
   "metadata": {},
   "outputs": [],
   "source": [
    "# kameradan video alacağız\n",
    "cap = cv2.VideoCapture(0)  # kamerayı açar - 1den fazla kamera varsa o yerine kamera indeksi yazılabilir.-\n",
    "cap.set(3, 1280)           # genişliği 1280 piksele ayarlar\n",
    "cap.set(4, 720)            # yüksekliği 720 piksele ayarlar"
   ]
  },
  {
   "cell_type": "code",
   "execution_count": null,
   "id": "6c662c19",
   "metadata": {},
   "outputs": [],
   "source": [
    "# YOLOv8 önceden eğitilmiş nesne tanıma modelini yüklüyoruz.\n",
    "model = YOLO(\"yolo-Weights/yolov8n.pt\")"
   ]
  },
  {
   "cell_type": "code",
   "execution_count": null,
   "id": "81ac40ae",
   "metadata": {},
   "outputs": [],
   "source": [
    "# 80 nesne katogerisini temsil ediyor\n",
    "classNames = [\"person\", \"bicycle\", \"car\", \"motorbike\", \"aeroplane\", \"bus\", \"train\", \"truck\", \"boat\",\n",
    "              \"traffic light\", \"fire hydrant\", \"stop sign\", \"parking meter\", \"bench\", \"bird\", \"cat\",\n",
    "              \"dog\", \"horse\", \"sheep\", \"cow\", \"elephant\", \"bear\", \"zebra\", \"giraffe\", \"backpack\", \"umbrella\",\n",
    "              \"handbag\", \"tie\", \"suitcase\", \"frisbee\", \"skis\", \"snowboard\", \"sports ball\", \"kite\", \"baseball bat\",\n",
    "              \"baseball glove\", \"skateboard\", \"surfboard\", \"tennis racket\", \"bottle\", \"wine glass\", \"cup\",\n",
    "              \"fork\", \"knife\", \"spoon\", \"bowl\", \"banana\", \"apple\", \"sandwich\", \"orange\", \"broccoli\",\n",
    "              \"carrot\", \"hot dog\", \"pizza\", \"donut\", \"cake\", \"chair\", \"sofa\", \"pottedplant\", \"bed\",\n",
    "              \"diningtable\", \"toilet\", \"tvmonitor\", \"laptop\", \"mouse\", \"remote\", \"keyboard\", \"cell phone\",\n",
    "              \"microwave\", \"oven\", \"toaster\", \"sink\", \"refrigerator\", \"book\", \"clock\", \"vase\", \"scissors\",\n",
    "              \"teddy bear\", \"hair drier\", \"toothbrush\"\n",
    "              ]\n",
    "# pencere boyutunu ayarla\n",
    "\n",
    "#cv2.namedWindow('Webcam', cv2.WINDOW_NORMAL)\n",
    "#cv2.resizeWindow('Webcam', 1280, 720)  # Adjust the size according to your preference\n"
   ]
  },
  {
   "cell_type": "code",
   "execution_count": null,
   "id": "fbdc3f02",
   "metadata": {},
   "outputs": [],
   "source": [
    "# kameradan alınan görüntü ile nesne tespiti yapıp sonuçları görünüt üzerinden gösterir.\n",
    "\n",
    "while True:   # sürekli tekrar eden döngü başlatılıyor. ç tuşuna basınca döngüden çıkar\n",
    "    success, img = cap.read()  # kameradan bir görüntü karesi alınıyor.\n",
    "    results = model(img, stream=True)   # alınan görüntü YOLO-v8 modeline gönderiliyor ve tespit yapılıyor\n",
    "\n",
    "    \n",
    "    for r in results:   # görüntü tespiti yapıldıkça ilerlemeye devam ediyor.\n",
    "        boxes = r.boxes   # nesnenin etrafındaki kutunun bilgilerini alıyor.\n",
    "\n",
    "        for box in boxes:  # birden fazla nesne kutu olamsı durumunda her kutu için işlem yapıyor.\n",
    "            # kutuyu oluşturuyoruz\n",
    "            x1, y1, x2, y2 = box.xyxy[0]  # kutunun sol üst ve sağ alt köşesinin kordinatları alınıyor.\n",
    "            x1, y1, x2, y2 = int(x1), int(y1), int(x2), int(y2) # kordinatlar int'a dönüştürülür\n",
    "\n",
    "            # tespit edilen görüntünün etrafına RGB ayarlarında kutu çiziyor\n",
    "            cv2.rectangle(img, (x1, y1), (x2, y2), (255, 0, 255), 3)\n",
    "\n",
    "            # doğruluk oranı nı yazdırıyoruz\n",
    "            confidence = math.ceil((box.conf[0]*100))\n",
    "            \n",
    "            # doğruluk yüzdesine göre renk seçme\n",
    "            if confidence > 80:\n",
    "                color = (0, 255, 0)  # Yeşil\n",
    "            elif confidence > 50:\n",
    "                color = (255, 255, 0)  # Sarı\n",
    "            else:\n",
    "                color = (255, 0, 0)  # Kırmızı\n",
    "                \n",
    "            # Sınırlayıcı kutu çizme\n",
    "            cv2.rectangle(img, (x1, y1), (x2, y2), color, 3)\n",
    "\n",
    "            # tespit edilen nesnenin sınıfınıın indeksini alıyor.\n",
    "            cls = int(box.cls[0])\n",
    "\n",
    "            # nesne detayları\n",
    "            org = [x1, y1]\n",
    "            font = cv2.FONT_HERSHEY_SIMPLEX  # yazı fontu\n",
    "            fontScale = 1   # yazı boyutu\n",
    "            color = (255, 0, 0)  # yazı rengi\n",
    "            thickness = 2   # iki piksel kalınlığında mwtin çizwer\n",
    "\n",
    "            # tespit edilen nesnenin sınıf adı yazdırılıyor\n",
    "            cv2.putText(img, classNames[cls], org, font, fontScale, color, thickness)\n",
    "            cv2.putText(img, f\"Dogruluk: {confidence}%\", (x1, y1-20), font, fontScale, (0, 0, 255), thickness)\n",
    "\n",
    "    # görüntüleme \n",
    "    cv2.imshow('Webcam', img)\n",
    "    if cv2.waitKey(1) == ord('ç'):\n",
    "        break\n",
    "\n",
    "cap.release()\n",
    "cv2.destroyAllWindows()"
   ]
  },
  {
   "cell_type": "code",
   "execution_count": null,
   "id": "5267ec39",
   "metadata": {},
   "outputs": [],
   "source": []
  },
  {
   "cell_type": "code",
   "execution_count": null,
   "id": "3b95fc1c",
   "metadata": {},
   "outputs": [],
   "source": []
  }
 ],
 "metadata": {
  "kernelspec": {
   "display_name": "Python 3 (ipykernel)",
   "language": "python",
   "name": "python3"
  },
  "language_info": {
   "codemirror_mode": {
    "name": "ipython",
    "version": 3
   },
   "file_extension": ".py",
   "mimetype": "text/x-python",
   "name": "python",
   "nbconvert_exporter": "python",
   "pygments_lexer": "ipython3",
   "version": "3.11.5"
  }
 },
 "nbformat": 4,
 "nbformat_minor": 5
}
